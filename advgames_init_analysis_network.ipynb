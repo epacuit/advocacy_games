{
 "cells": [
  {
   "cell_type": "code",
   "execution_count": 1,
   "metadata": {},
   "outputs": [
    {
     "data": {
      "text/plain": [
       "variance_inclinations (generic function with 1 method)"
      ]
     },
     "metadata": {},
     "output_type": "display_data"
    }
   ],
   "source": [
    "using CSV\n",
    "using DataFrames\n",
    "using PrettyTables\n",
    "using StatsBase\n",
    "include(\"./advgames_network.jl\")\n",
    "include(\"./advgames_analysis.jl\")"
   ]
  },
  {
   "cell_type": "code",
   "execution_count": 8,
   "metadata": {},
   "outputs": [
    {
     "data": {
      "text/plain": [
       "run_simulation (generic function with 1 method)"
      ]
     },
     "metadata": {},
     "output_type": "display_data"
    }
   ],
   "source": [
    "function run_simulation(df, num_simulations, numrounds, params_for_model, params_filename)\n",
    "    for nsim in 1:num_simulations\n",
    "        adata = [pr_coop]\n",
    "        # model data to record\n",
    "        mdata = [\n",
    "            cc, \n",
    "            cd, \n",
    "            dc, \n",
    "            dd, \n",
    "            game_type,\n",
    "            avg_incl,\n",
    "            pr_adv_coop,\n",
    "            pr_hyp_adv_c_play_d, \n",
    "            pr_hyp_adv_d_play_c, \n",
    "            perc_cooperative,\n",
    "            perc_uncooperative,\n",
    "            perc_middle,\n",
    "            variance_inclinations\n",
    "            ]\n",
    "        # params is a dictionary with the parameters to be used in the simulation\n",
    "        model, parameters = initialize(; params_for_model...)            \n",
    "        #pretty_table(parameters, show_subheader=false)\n",
    "        # write the parameters to a txt file\n",
    "        open(\"$(params_filename)_$(nsim).txt\", \"w\") do io\n",
    "            pretty_table(io, parameters, show_subheader=false)\n",
    "        end\n",
    "        _, mdf = run!(model, dummystep, model_step!, numrounds; adata, mdata)\n",
    "        \n",
    "        # average the mdf avg_incl\n",
    "        cai = mean(mdf.avg_incl)\n",
    "\n",
    "        # proportion of the times perc_cooperative >= 0.75\n",
    "        time_on_top = sum(mdf.perc_cooperative .>= 0.75) / length(mdf.perc_cooperative) \n",
    "        time_on_bottom = sum(mdf.perc_uncooperative .>= 0.75) / length(mdf.perc_cooperative) \n",
    "\n",
    "        if time_on_bottom == 0\n",
    "            coop_degree = Inf\n",
    "        else\n",
    "            coop_degree = time_on_top / time_on_bottom\n",
    "        end\n",
    "        \n",
    "        order_degree = time_on_top + time_on_bottom\n",
    "        R = model.base_payouts[:C, :C]\n",
    "        S = model.base_payouts[:C, :D]\n",
    "        T = model.base_payouts[:D, :C]\n",
    "        P = model.base_payouts[:D, :D]\n",
    "        tolerance = parameters[:tolerance]\n",
    "        influence_type = model.influence_type\n",
    "        interaction_type = model.interaction_type\n",
    "        pr_defector = parameters[:pr_defector]\n",
    "        pr_cooperator = parameters[:pr_cooperator]\n",
    "        pr_neutral = parameters[:pr_neutral]\n",
    "        dims = parameters[:dims]\n",
    "        numagents = parameters[:numagents]\n",
    "        max_positive_pressure = parameters[:max_pos_neg_pressures][1]\n",
    "        max_negative_pressure = parameters[:max_pos_neg_pressures][2]\n",
    "        adv_mutation_rate = parameters[:a_m_mutation_rates][1]\n",
    "        move_mutation_rate = parameters[:a_m_mutation_rates][2]\n",
    "        weight_of_present_for_adv = parameters[:a_m_weights_of_present][1]\n",
    "        weight_of_present_for_move = parameters[:a_m_weights_of_present][2]\n",
    "        adv_reassess_frequency = parameters[:a_m_reassess_frequencies][1]\n",
    "        move_reassess_frequency = parameters[:a_m_reassess_frequencies][2]\n",
    "        move_increment = parameters[:m_increment]\n",
    "        push!(df, [cai, coop_degree, order_degree, nsim, numrounds, R, S, T, P, tolerance, influence_type, interaction_type, dims,\n",
    "        numagents, pr_defector, pr_cooperator, \n",
    "        pr_neutral, max_positive_pressure, max_negative_pressure, adv_mutation_rate, move_mutation_rate, weight_of_present_for_adv, weight_of_present_for_move, adv_reassess_frequency, move_reassess_frequency, move_increment])\n",
    "    end\n",
    "end\n"
   ]
  },
  {
   "cell_type": "code",
   "execution_count": 9,
   "metadata": {},
   "outputs": [
    {
     "name": "stdout",
     "output_type": "stream",
     "text": [
      "Running simulation for influece_type: local and interaction_type: local\n",
      "Running simulation for influece_type: local and interaction_type: global\n",
      "Running simulation for influece_type: global and interaction_type: local\n",
      "Running simulation for influece_type: global and interaction_type: global\n"
     ]
    }
   ],
   "source": [
    "influence_types = [:local, :global]\n",
    "interaction_types = [:local, :global]\n",
    "numrounds = 500_000\n",
    "num_simulations = 50\n",
    "df = DataFrame(\n",
    "    cai=Float64[],\n",
    "    coop_degree=Float64[], \n",
    "    order_degree=Float64[], \n",
    "    numsim = Int[],\n",
    "    numrounds=Int[],\n",
    "    R=Float64[], \n",
    "    S=Float64[], \n",
    "    T=Float64[], \n",
    "    P=Float64[], \n",
    "    tolerance=Float64[], \n",
    "    influence_type=Symbol[],\n",
    "    interaction_type=Symbol[],\n",
    "    dims=Vector{Tuple{Int, Int}}(),\n",
    "    numagents=Int[],\n",
    "    pr_defector=Float64[], \n",
    "    pr_cooperator=Float64[], \n",
    "    pr_neutral=Float64[], \n",
    "    max_positive_pressure=Float64[], \n",
    "    max_negative_pressure=Float64[], \n",
    "    adv_mutation_rate=Float64[], \n",
    "    move_mutation_rate=Float64[], \n",
    "    weight_of_present_for_adv=Float64[], \n",
    "    weight_of_present_for_move=Float64[], \n",
    "    adv_reassess_frequency=Float64[], \n",
    "    move_reassess_frequency=Float64[], \n",
    "    move_increment=Float64[]\n",
    ")\n",
    "\n",
    "for influence_type in influence_types\n",
    "    for interaction_type in interaction_types\n",
    "\n",
    "        println(\"Running simulation for influece_type: $influence_type and interaction_type: $interaction_type\")\n",
    "\n",
    "        # divide popsize into two equal parts\n",
    "        # num_neutral is what is left over if popsize is not divisible by 2\n",
    "        \n",
    "        params_for_model = Dict(\n",
    "            :pr_cooperator => 0.5, \n",
    "            :pr_defector => 0.5, \n",
    "            :pr_neutral => 0, \n",
    "            :dims => (5, 5),\n",
    "            :influence_type => influence_type,\n",
    "            :interaction_type => interaction_type,        \n",
    "            :max_pos_pressure => 6,\n",
    "            :max_neg_pressure => 6,\n",
    "            :adv_mutation_rate => 0.2,\n",
    "            :move_mutation_rate => 0.15,\n",
    "            :tolerance => 0.05,\n",
    "            :payouts => Dict(\n",
    "                (:C, :C) => 3.0,\n",
    "                (:C, :D) => 0.0,\n",
    "                (:D, :C) => 4.0,\n",
    "                (:D, :D) => 1.0\n",
    "                )\n",
    "        )\n",
    "        run_simulation(df, num_simulations, numrounds, params_for_model, \"./diff_init_analysis_network/params_$(influence_type)_$(interaction_type)\")\n",
    "        CSV.write(\"diff_init_analysis_network/diff_init_analysis_network.csv\", df)\n",
    "    end\n",
    "end\n"
   ]
  },
  {
   "cell_type": "code",
   "execution_count": null,
   "metadata": {},
   "outputs": [],
   "source": []
  }
 ],
 "metadata": {
  "kernelspec": {
   "display_name": "Julia 1.9.2",
   "language": "julia",
   "name": "julia-1.9"
  },
  "language_info": {
   "file_extension": ".jl",
   "mimetype": "application/julia",
   "name": "julia",
   "version": "1.9.2"
  }
 },
 "nbformat": 4,
 "nbformat_minor": 2
}
