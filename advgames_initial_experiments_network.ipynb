{
 "cells": [
  {
   "cell_type": "code",
   "execution_count": 1,
   "metadata": {},
   "outputs": [
    {
     "data": {
      "text/plain": [
       "initialize (generic function with 1 method)"
      ]
     },
     "metadata": {},
     "output_type": "display_data"
    }
   ],
   "source": [
    "using CSV\n",
    "using DataFrames\n",
    "using PrettyTables\n",
    "using StatsBase\n",
    "include(\"./advgames_network.jl\")"
   ]
  },
  {
   "cell_type": "code",
   "execution_count": 5,
   "metadata": {},
   "outputs": [
    {
     "data": {
      "text/plain": [
       "game_type (generic function with 1 method)"
      ]
     },
     "metadata": {},
     "output_type": "display_data"
    }
   ],
   "source": [
    "# Define special data to record\n",
    "\n",
    "adv_coop(player) = player.adv_type == :C\n",
    "adv_defect(player) = player.adv_type == :D\n",
    "should_c(player) = est_move_coop(player) > est_move_defect(player)\n",
    "should_d(player) = est_move_coop(player) < est_move_defect(player)\n",
    "should_adv_c(player) = est_adv_coop(player) > est_adv_defect(player)\n",
    "should_adv_d(player) = est_adv_coop(player) < est_adv_defect(player)\n",
    "\n",
    "function cum_avg(a::Vector{Float64})  # helper function that returns vector of cumulative averages of vector a\n",
    "      ca=Float64[]    \n",
    "      for i in 1:length(a)\n",
    "          push!( ca, sum(first(a,i))/i )\n",
    "      end\n",
    "return ca\n",
    "end\n",
    "\n",
    "\n",
    "#individual_incls(model) = [pr_coop(p) for p in allagents(model)]\n",
    "avg_incl(model) = sum([pr_coop(p) for p in allagents(model)]) / nagents(model)  \n",
    " \n",
    "pr_max_coop(model) = sum([pr_coop(p) == 1.0 for p in allagents(model)]) / nagents(model)\n",
    "pr_max_defect(model) = sum([pr_coop(p) == 0.0 for p in allagents(model)]) / nagents(model)\n",
    "\n",
    "cooperate_state(model) = pr_max_coop(model)>.75\n",
    "defect_state(model) = pr_max_defect(model) >.75\n",
    "\n",
    "pr_adv_coop(model) = sum([advocate(p) == :C for p in allagents(model)]) / nagents(model)\n",
    "pr_adv_defect(model) = sum([advocate(p) == :D for p in allagents(model)]) / nagents(model)\n",
    "\n",
    "pr_hyp_adv_c_play_d(model) = sum([advocate(p) == :C && pr_coop(p) <= 0.15 for p in allagents(model)]) / nagents(model)\n",
    "pr_hyp_adv_d_play_c(model) = sum([advocate(p) == :D && pr_coop(p) >= 0.85 for p in allagents(model)]) / nagents(model)\n",
    "\n",
    "avg_pr_max_coop(model) = mean([pr_coop(p) for p in allagents(model)])  >= 0.85\n",
    "avg_pr_max_defect(model) = mean([pr_coop(p) for p in allagents(model)])  <= 0.15\n",
    "\n",
    "pr_mistaken_adv(model) = sum([(advocate(p) == :C && est_move_coop(p) < est_move_defect(p)) ||\n",
    "                              (advocate(p) == :D && est_move_coop(p) > est_move_defect(p))\n",
    "                            for p in allagents(model)]) / nagents(model)\n",
    "\n",
    "proportion_should_c(model) = sum([should_c(p) for p in allagents(model)]) / nagents(model)\n",
    "proportion_should_d(model) = sum([should_d(p) for p in allagents(model)]) / nagents(model)\n",
    "proportion_should_adv_c(model) = sum([should_adv_c(p) for p in allagents(model)]) / nagents(model)\n",
    "proportion_should_adv_d(model) = sum([should_adv_d(p) for p in allagents(model)]) / nagents(model)\n",
    "\n",
    "cc(model) = float(model.payouts[:C, :C])\n",
    "cd(model) = float(model.payouts[:C, :D])\n",
    "dc(model) = float(model.payouts[:D, :C])\n",
    "dd(model) = float(model.payouts[:D, :D])\n",
    "\n",
    "is_pd(model) = dc(model) > cc(model) > dd(model) > cd(model)\n",
    "is_chicken(model) = dc(model) > cc(model) && cd(model) > dd(model)\n",
    "is_sh(model) = cc(model) > dc(model) && dd(model) > cd(model) && cc(model) > dd(model)\n",
    "is_c_dom(model) = cc(model) > dc(model) > cd(model) > dd(model)\n",
    "is_d_dom(model) = dd(model) > cd(model) > dc(model) > cc(model)\n",
    "\n",
    "function game_type(model) \n",
    "    if is_pd(model)\n",
    "        return \"PD\"\n",
    "    elseif is_chicken(model)\n",
    "        return \"CH\"\n",
    "    elseif is_sh(model)\n",
    "        return \"SH\"\n",
    "    elseif is_c_dom(model)\n",
    "        return \"Cdom\"\n",
    "    elseif is_d_dom(model)\n",
    "        return \"Ddom\"\n",
    "    else \n",
    "        return \"Other\"\n",
    "    end\n",
    "end\n"
   ]
  },
  {
   "cell_type": "code",
   "execution_count": 6,
   "metadata": {},
   "outputs": [
    {
     "name": "stdout",
     "output_type": "stream",
     "text": [
      "┌──────────────────────────┬──────────────┐\n",
      "│\u001b[1m                     Keys \u001b[0m│\u001b[1m       Values \u001b[0m│\n",
      "├──────────────────────────┼──────────────┤\n",
      "│         interaction_type │       global │\n",
      "│             base_payouts │ [5, 3, 1, 0] │\n",
      "│                tolerance │         0.05 │\n",
      "│            pr_cooperator │          0.5 │\n",
      "│               pr_neutral │          0.0 │\n",
      "│               population │          100 │\n",
      "│    max_pos_neg_pressures │       [6, 6] │\n",
      "│       a_m_mutation_rates │ [0.02, 0.15] │\n",
      "│   a_m_weights_of_present │   [0.3, 0.2] │\n",
      "│ a_m_reassess_frequencies │  [0.03, 0.1] │\n",
      "│              pr_defector │          0.5 │\n",
      "│           influence_type │       global │\n",
      "│              m_increment │         0.15 │\n",
      "└──────────────────────────┴──────────────┘\n"
     ]
    }
   ],
   "source": [
    "model, parameters = initialize(    \n",
    "    pr_cooperator = 0.5, \n",
    "    init_pr_coop_for_cooperator = 0.75, \n",
    "    pr_defector = 0.5, \n",
    "    init_pr_coop_for_defector = 0.25, \n",
    "    pr_neutral = 0.0,\n",
    "    dims = (10, 10),\n",
    "    influence_type = :global,\n",
    "    interaction_type = :global,\n",
    "    rstp = nothing,\n",
    "    payouts = Dict(\n",
    "        (:C, :C) => 3, \n",
    "        (:C, :D) => 0, \n",
    "        (:D, :C) => 5, \n",
    "        (:D, :D) => 1), \n",
    "    adv_reassess_frequency = 0.03, \n",
    "    move_reassess_frequency = 0.1,\n",
    "    max_pos_pressure = 6, \n",
    "    max_neg_pressure = 6,\n",
    "    tolerance = 0.05,\n",
    ")\n",
    "\n",
    "pretty_table(parameters, show_subheader=false)\n",
    "open(\"initial_experiment_parameters_network_global_global.txt\", \"w\") do io\n",
    "    pretty_table(io, parameters, show_subheader=false)\n",
    "end"
   ]
  },
  {
   "cell_type": "code",
   "execution_count": 7,
   "metadata": {},
   "outputs": [
    {
     "data": {
      "text/plain": [
       "\"agent_data_init_network_global_global.csv\""
      ]
     },
     "metadata": {},
     "output_type": "display_data"
    }
   ],
   "source": [
    "numrounds=100_000\n",
    "\n",
    "adata = [pr_coop, adv_coop, est_move_coop, est_move_defect, est_adv_coop, est_adv_defect]\n",
    "\n",
    "# model data to record\n",
    "mdata = [\n",
    "    cc, \n",
    "    cd, \n",
    "    dc, \n",
    "    dd, \n",
    "    game_type,\n",
    "    avg_incl,\n",
    "    pr_adv_coop,\n",
    "    pr_hyp_adv_c_play_d, \n",
    "    pr_hyp_adv_d_play_c, \n",
    "    ]\n",
    "\n",
    "adf, mdf = run!(model, dummystep, model_step!, numrounds; adata, mdata)\n",
    "\n",
    "# write mdf to csv\n",
    "CSV.write(\"model_data_init_network_global_global.csv\", mdf)\n",
    "CSV.write(\"agent_data_init_network_global_global.csv\", adf)"
   ]
  },
  {
   "cell_type": "code",
   "execution_count": 8,
   "metadata": {},
   "outputs": [
    {
     "name": "stdout",
     "output_type": "stream",
     "text": [
      "┌──────────────────────────┬──────────────┐\n",
      "│\u001b[1m                     Keys \u001b[0m│\u001b[1m       Values \u001b[0m│\n",
      "├──────────────────────────┼──────────────┤\n",
      "│         interaction_type │       global │\n",
      "│             base_payouts │ [5, 3, 1, 0] │\n",
      "│                tolerance │         0.05 │\n",
      "│            pr_cooperator │          0.5 │\n",
      "│               pr_neutral │          0.0 │\n",
      "│               population │          100 │\n",
      "│    max_pos_neg_pressures │       [6, 6] │\n",
      "│       a_m_mutation_rates │ [0.02, 0.15] │\n",
      "│   a_m_weights_of_present │   [0.3, 0.2] │\n",
      "│ a_m_reassess_frequencies │  [0.03, 0.1] │\n",
      "│              pr_defector │          0.5 │\n",
      "│           influence_type │        local │\n",
      "│              m_increment │         0.15 │\n",
      "└──────────────────────────┴──────────────┘\n"
     ]
    }
   ],
   "source": [
    "model, parameters = initialize(    \n",
    "    pr_cooperator = 0.5, \n",
    "    init_pr_coop_for_cooperator = 0.75, \n",
    "    pr_defector = 0.5, \n",
    "    init_pr_coop_for_defector = 0.25, \n",
    "    pr_neutral = 0.0,\n",
    "    dims = (10, 10),\n",
    "    influence_type = :local,\n",
    "    interaction_type = :global,\n",
    "    rstp = nothing,\n",
    "    payouts = Dict(\n",
    "        (:C, :C) => 3, \n",
    "        (:C, :D) => 0, \n",
    "        (:D, :C) => 5, \n",
    "        (:D, :D) => 1), \n",
    "    adv_reassess_frequency = 0.03, \n",
    "    move_reassess_frequency = 0.1,\n",
    "    max_pos_pressure = 6, \n",
    "    max_neg_pressure = 6,\n",
    "    tolerance = 0.05,\n",
    ")\n",
    "\n",
    "pretty_table(parameters, show_subheader=false)\n",
    "open(\"initial_experiment_parameters_network_local_global.txt\", \"w\") do io\n",
    "    pretty_table(io, parameters, show_subheader=false)\n",
    "end"
   ]
  },
  {
   "cell_type": "code",
   "execution_count": 9,
   "metadata": {},
   "outputs": [
    {
     "data": {
      "text/plain": [
       "\"agent_data_init_network_local_global.csv\""
      ]
     },
     "metadata": {},
     "output_type": "display_data"
    }
   ],
   "source": [
    "numrounds=100_000\n",
    "\n",
    "adata = [pr_coop, adv_coop, est_move_coop, est_move_defect, est_adv_coop, est_adv_defect]\n",
    "\n",
    "# model data to record\n",
    "mdata = [\n",
    "    cc, \n",
    "    cd, \n",
    "    dc, \n",
    "    dd, \n",
    "    game_type,\n",
    "    avg_incl,\n",
    "    pr_adv_coop,\n",
    "    pr_hyp_adv_c_play_d, \n",
    "    pr_hyp_adv_d_play_c, \n",
    "    ]\n",
    "\n",
    "adf, mdf = run!(model, dummystep, model_step!, numrounds; adata, mdata)\n",
    "\n",
    "# write mdf to csv\n",
    "CSV.write(\"model_data_init_network_local_global.csv\", mdf)\n",
    "CSV.write(\"agent_data_init_network_local_global.csv\", adf)"
   ]
  },
  {
   "cell_type": "code",
   "execution_count": 10,
   "metadata": {},
   "outputs": [
    {
     "name": "stdout",
     "output_type": "stream",
     "text": [
      "┌──────────────────────────┬──────────────┐\n",
      "│\u001b[1m                     Keys \u001b[0m│\u001b[1m       Values \u001b[0m│\n",
      "├──────────────────────────┼──────────────┤\n",
      "│         interaction_type │        local │\n",
      "│             base_payouts │ [5, 3, 1, 0] │\n",
      "│                tolerance │         0.05 │\n",
      "│            pr_cooperator │          0.5 │\n",
      "│               pr_neutral │          0.0 │\n",
      "│               population │          100 │\n",
      "│    max_pos_neg_pressures │       [6, 6] │\n",
      "│       a_m_mutation_rates │ [0.02, 0.15] │\n",
      "│   a_m_weights_of_present │   [0.3, 0.2] │\n",
      "│ a_m_reassess_frequencies │  [0.03, 0.1] │\n",
      "│              pr_defector │          0.5 │\n",
      "│           influence_type │       global │\n",
      "│              m_increment │         0.15 │\n",
      "└──────────────────────────┴──────────────┘\n"
     ]
    }
   ],
   "source": [
    "model, parameters = initialize(    \n",
    "    pr_cooperator = 0.5, \n",
    "    init_pr_coop_for_cooperator = 0.75, \n",
    "    pr_defector = 0.5, \n",
    "    init_pr_coop_for_defector = 0.25, \n",
    "    pr_neutral = 0.0,\n",
    "    dims = (10, 10),\n",
    "    influence_type = :global,\n",
    "    interaction_type = :local,\n",
    "    rstp = nothing,\n",
    "    payouts = Dict(\n",
    "        (:C, :C) => 3, \n",
    "        (:C, :D) => 0, \n",
    "        (:D, :C) => 5, \n",
    "        (:D, :D) => 1), \n",
    "    adv_reassess_frequency = 0.03, \n",
    "    move_reassess_frequency = 0.1,\n",
    "    max_pos_pressure = 6, \n",
    "    max_neg_pressure = 6,\n",
    "    tolerance = 0.05,\n",
    ")\n",
    "\n",
    "pretty_table(parameters, show_subheader=false)\n",
    "open(\"initial_experiment_parameters_network_global_local.txt\", \"w\") do io\n",
    "    pretty_table(io, parameters, show_subheader=false)\n",
    "end"
   ]
  },
  {
   "cell_type": "code",
   "execution_count": 11,
   "metadata": {},
   "outputs": [
    {
     "data": {
      "text/plain": [
       "\"agent_data_init_network_global_local.csv\""
      ]
     },
     "metadata": {},
     "output_type": "display_data"
    }
   ],
   "source": [
    "numrounds=100_000\n",
    "\n",
    "adata = [pr_coop, adv_coop, est_move_coop, est_move_defect, est_adv_coop, est_adv_defect]\n",
    "\n",
    "# model data to record\n",
    "mdata = [\n",
    "    cc, \n",
    "    cd, \n",
    "    dc, \n",
    "    dd, \n",
    "    game_type,\n",
    "    avg_incl,\n",
    "    pr_adv_coop,\n",
    "    pr_hyp_adv_c_play_d, \n",
    "    pr_hyp_adv_d_play_c, \n",
    "    ]\n",
    "\n",
    "adf, mdf = run!(model, dummystep, model_step!, numrounds; adata, mdata)\n",
    "\n",
    "# write mdf to csv\n",
    "CSV.write(\"model_data_init_network_global_local.csv\", mdf)\n",
    "CSV.write(\"agent_data_init_network_global_local.csv\", adf)"
   ]
  },
  {
   "cell_type": "code",
   "execution_count": 12,
   "metadata": {},
   "outputs": [
    {
     "name": "stdout",
     "output_type": "stream",
     "text": [
      "┌──────────────────────────┬──────────────┐\n",
      "│\u001b[1m                     Keys \u001b[0m│\u001b[1m       Values \u001b[0m│\n",
      "├──────────────────────────┼──────────────┤\n",
      "│         interaction_type │        local │\n",
      "│             base_payouts │ [5, 3, 1, 0] │\n",
      "│                tolerance │         0.05 │\n",
      "│            pr_cooperator │          0.5 │\n",
      "│               pr_neutral │          0.0 │\n",
      "│               population │          100 │\n",
      "│    max_pos_neg_pressures │       [6, 6] │\n",
      "│       a_m_mutation_rates │ [0.02, 0.15] │\n",
      "│   a_m_weights_of_present │   [0.3, 0.2] │\n",
      "│ a_m_reassess_frequencies │  [0.03, 0.1] │\n",
      "│              pr_defector │          0.5 │\n",
      "│           influence_type │        local │\n",
      "│              m_increment │         0.15 │\n",
      "└──────────────────────────┴──────────────┘\n"
     ]
    }
   ],
   "source": [
    "model, parameters = initialize(    \n",
    "    pr_cooperator = 0.5, \n",
    "    init_pr_coop_for_cooperator = 0.75, \n",
    "    pr_defector = 0.5, \n",
    "    init_pr_coop_for_defector = 0.25, \n",
    "    pr_neutral = 0.0,\n",
    "    dims = (10, 10),\n",
    "    influence_type = :local,\n",
    "    interaction_type = :local,\n",
    "    rstp = nothing,\n",
    "    payouts = Dict(\n",
    "        (:C, :C) => 3, \n",
    "        (:C, :D) => 0, \n",
    "        (:D, :C) => 5, \n",
    "        (:D, :D) => 1), \n",
    "    adv_reassess_frequency = 0.03, \n",
    "    move_reassess_frequency = 0.1,\n",
    "    max_pos_pressure = 6, \n",
    "    max_neg_pressure = 6,\n",
    "    tolerance = 0.05,\n",
    ")\n",
    "\n",
    "pretty_table(parameters, show_subheader=false)\n",
    "open(\"initial_experiment_parameters_network_local_local.txt\", \"w\") do io\n",
    "    pretty_table(io, parameters, show_subheader=false)\n",
    "end"
   ]
  },
  {
   "cell_type": "code",
   "execution_count": 13,
   "metadata": {},
   "outputs": [
    {
     "data": {
      "text/plain": [
       "\"agent_data_init_network_local_local.csv\""
      ]
     },
     "metadata": {},
     "output_type": "display_data"
    }
   ],
   "source": [
    "numrounds=100_000\n",
    "\n",
    "adata = [pr_coop, adv_coop, est_move_coop, est_move_defect, est_adv_coop, est_adv_defect]\n",
    "\n",
    "# model data to record\n",
    "mdata = [\n",
    "    cc, \n",
    "    cd, \n",
    "    dc, \n",
    "    dd, \n",
    "    game_type,\n",
    "    avg_incl,\n",
    "    pr_adv_coop,\n",
    "    pr_hyp_adv_c_play_d, \n",
    "    pr_hyp_adv_d_play_c, \n",
    "    ]\n",
    "\n",
    "adf, mdf = run!(model, dummystep, model_step!, numrounds; adata, mdata)\n",
    "\n",
    "# write mdf to csv\n",
    "CSV.write(\"model_data_init_network_local_local.csv\", mdf)\n",
    "CSV.write(\"agent_data_init_network_local_local.csv\", adf)"
   ]
  },
  {
   "cell_type": "code",
   "execution_count": null,
   "metadata": {},
   "outputs": [],
   "source": []
  }
 ],
 "metadata": {
  "kernelspec": {
   "display_name": "Julia 1.9.2",
   "language": "julia",
   "name": "julia-1.9"
  },
  "language_info": {
   "file_extension": ".jl",
   "mimetype": "application/julia",
   "name": "julia",
   "version": "1.9.2"
  }
 },
 "nbformat": 4,
 "nbformat_minor": 2
}
