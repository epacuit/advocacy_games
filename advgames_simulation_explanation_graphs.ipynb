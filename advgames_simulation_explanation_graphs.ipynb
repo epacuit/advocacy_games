{
 "cells": [
  {
   "cell_type": "code",
   "execution_count": 32,
   "metadata": {},
   "outputs": [
    {
     "data": {
      "text/plain": [
       "initialize (generic function with 1 method)"
      ]
     },
     "metadata": {},
     "output_type": "display_data"
    }
   ],
   "source": [
    "using CSV\n",
    "using DataFrames\n",
    "using PrettyTables\n",
    "using StatsBase\n",
    "include(\"./advgames.jl\")\n",
    "include(\"./advgames_analysis.jl\")"
   ]
  },
  {
   "cell_type": "code",
   "execution_count": 5,
   "metadata": {},
   "outputs": [
    {
     "name": "stdout",
     "output_type": "stream",
     "text": [
      "┌──────────────────────────┬──────────────────────┐\n",
      "│\u001b[1m                     Keys \u001b[0m│\u001b[1m               Values \u001b[0m│\n",
      "├──────────────────────────┼──────────────────────┤\n",
      "│             base_payouts │ [5.0, 3.0, 1.0, 0.0] │\n",
      "│                tolerance │                 0.05 │\n",
      "│            num_defectors │                   20 │\n",
      "│          num_cooperators │                   20 │\n",
      "│              num_neutral │                    0 │\n",
      "│    max_pos_neg_pressures │               [6, 6] │\n",
      "│               population │                   40 │\n",
      "│       a_m_mutation_rates │         [0.03, 0.15] │\n",
      "│   a_m_weights_of_present │           [0.3, 0.2] │\n",
      "│ a_m_reassess_frequencies │          [0.03, 0.1] │\n",
      "│              m_increment │                 0.15 │\n",
      "└──────────────────────────┴──────────────────────┘\n"
     ]
    }
   ],
   "source": [
    "model, parameters = initialize(    \n",
    "    num_cooperators = 20, \n",
    "    num_defectors = 20, \n",
    "    num_neutral = 0, \n",
    "    max_pos_pressure = 6,\n",
    "    max_neg_pressure = 6,\n",
    "    adv_mutation_rate = 0.03,\n",
    "    move_mutation_rate = 0.15,\n",
    "    tolerance = 0.05,\n",
    "    payouts = Dict(\n",
    "        (:C, :C) => 3.0,\n",
    "        (:C, :D) => 0.0,\n",
    "        (:D, :C) => 5.0,\n",
    "        (:D, :D) => 1.0),\n",
    ")\n",
    "\n",
    "pretty_table(parameters, show_subheader=false)\n"
   ]
  },
  {
   "cell_type": "code",
   "execution_count": 6,
   "metadata": {},
   "outputs": [
    {
     "name": "stdout",
     "output_type": "stream",
     "text": [
      "perc_cooperators = 0.0\n",
      "perc_cooperators = 0.025\n",
      "perc_cooperators = 0.05\n",
      "perc_cooperators = 0.075\n",
      "perc_cooperators = 0.1\n",
      "perc_cooperators = 0.125\n",
      "perc_cooperators = 0.15\n",
      "perc_cooperators = 0.175\n",
      "perc_cooperators = 0.2\n",
      "perc_cooperators = 0.225\n",
      "perc_cooperators = 0.25\n",
      "perc_cooperators = 0.275\n",
      "perc_cooperators = 0.3\n",
      "perc_cooperators = 0.325\n",
      "perc_cooperators = 0.35\n",
      "perc_cooperators = 0.375\n",
      "perc_cooperators = 0.4\n",
      "perc_cooperators = 0.425\n",
      "perc_cooperators = 0.45\n",
      "perc_cooperators = 0.475\n",
      "perc_cooperators = 0.5\n",
      "perc_cooperators = 0.525\n",
      "perc_cooperators = 0.55\n",
      "perc_cooperators = 0.575\n",
      "perc_cooperators = 0.6\n",
      "perc_cooperators = 0.625\n",
      "perc_cooperators = 0.65\n",
      "perc_cooperators = 0.675\n",
      "perc_cooperators = 0.7\n",
      "perc_cooperators = 0.725\n",
      "perc_cooperators = 0.75\n",
      "perc_cooperators = 0.775\n",
      "perc_cooperators = 0.8\n",
      "perc_cooperators = 0.825\n",
      "perc_cooperators = 0.85\n",
      "perc_cooperators = 0.875\n",
      "perc_cooperators = 0.9\n",
      "perc_cooperators = 0.925\n",
      "perc_cooperators = 0.95\n",
      "perc_cooperators = 0.975\n",
      "perc_cooperators = 1.0\n"
     ]
    },
    {
     "data": {
      "text/plain": [
       "\"game_types_6_6.csv\""
      ]
     },
     "metadata": {},
     "output_type": "display_data"
    }
   ],
   "source": [
    "df = DataFrame(\n",
    "    cc = Float64[],\n",
    "    cd = Float64[],\n",
    "    dc = Float64[],\n",
    "    dd = Float64[],\n",
    "    game_type = String[],\n",
    "    perc_cooperators = Float64[]\n",
    ")\n",
    "\n",
    "for num_cooperators = 0:nagents(model)\n",
    "    println(\"perc_cooperators = \", num_cooperators / nagents(model))\n",
    "    for p in allagents(model)\n",
    "        p.adv_type = :D\n",
    "    end\n",
    "    for p in collect(allagents(model))[1:num_cooperators]\n",
    "        p.adv_type = :C\n",
    "    end\n",
    "    update_game!(model)\n",
    "    push!(df, Dict(\n",
    "        :cc => cc(model),\n",
    "        :cd => cd(model),\n",
    "        :dc => dc(model),\n",
    "        :dd => dd(model),\n",
    "        :game_type => game_type(model),\n",
    "        :perc_cooperators => num_cooperators / nagents(model)\n",
    "    ))\n",
    "end\n",
    "\n",
    "CSV.write(\"game_types_$(model.max_pos_pressure)_$(model.max_neg_pressure).csv\", df)"
   ]
  },
  {
   "cell_type": "code",
   "execution_count": 132,
   "metadata": {},
   "outputs": [
    {
     "data": {
      "text/plain": [
       "\"game_types_all_pressures.csv\""
      ]
     },
     "metadata": {},
     "output_type": "display_data"
    }
   ],
   "source": [
    "pressures = [\n",
    "    (1, 1),\n",
    "    (1, 4),\n",
    "    (1, 6),\n",
    "    (4, 1),\n",
    "    (4, 4),\n",
    "    (4, 6),\n",
    "    (6, 1),\n",
    "    (6, 4),\n",
    "    (6, 6)\n",
    "]\n",
    "df = DataFrame(\n",
    "    cc = Float64[],\n",
    "    cd = Float64[],\n",
    "    dc = Float64[],\n",
    "    dd = Float64[],\n",
    "    game_type = String[],\n",
    "    perc_cooperators = Float64[],\n",
    "    max_pos_pressure = Int[],\n",
    "    max_neg_pressure = Int[]\n",
    ")\n",
    "\n",
    "for (max_pos_pressure, max_neg_pressure) in pressures\n",
    "    model, parameters = initialize(    \n",
    "        num_cooperators = 20, \n",
    "        num_defectors = 20, \n",
    "        num_neutral = 0, \n",
    "        max_pos_pressure = max_pos_pressure,\n",
    "        max_neg_pressure = max_neg_pressure,\n",
    "        adv_mutation_rate = 0.03,\n",
    "        move_mutation_rate = 0.15,\n",
    "        tolerance = 0.05,\n",
    "        payouts = Dict(\n",
    "            (:C, :C) => 3.0,\n",
    "            (:C, :D) => 0.0,\n",
    "            (:D, :C) => 5.0,\n",
    "            (:D, :D) => 1.0),\n",
    "    )\n",
    "\n",
    "\n",
    "    for num_cooperators = 0:nagents(model)\n",
    "        for p in allagents(model)\n",
    "            p.adv_type = :D\n",
    "        end\n",
    "        for p in collect(allagents(model))[1:num_cooperators]\n",
    "            p.adv_type = :C\n",
    "        end\n",
    "        update_game!(model)\n",
    "        push!(df, Dict(\n",
    "            :cc => cc(model),\n",
    "            :cd => cd(model),\n",
    "            :dc => dc(model),\n",
    "            :dd => dd(model),\n",
    "            :game_type => game_type(model),\n",
    "            :perc_cooperators => num_cooperators / nagents(model),\n",
    "            :max_pos_pressure => max_pos_pressure,\n",
    "            :max_neg_pressure => max_neg_pressure\n",
    "        ))\n",
    "    end\n",
    "end\n",
    "CSV.write(\"game_types_all_pressures.csv\", df)\n"
   ]
  },
  {
   "cell_type": "code",
   "execution_count": 42,
   "metadata": {},
   "outputs": [
    {
     "data": {
      "text/plain": [
       "\"game_types_all_pressures2.csv\""
      ]
     },
     "metadata": {},
     "output_type": "display_data"
    }
   ],
   "source": [
    "pressures = [\n",
    "    (1, 1),\n",
    "    (1, 4),\n",
    "    (1, 6),\n",
    "    (4, 1),\n",
    "    (4, 4),\n",
    "    (4, 6),\n",
    "    (6, 1),\n",
    "    (6, 4),\n",
    "    (6, 6)\n",
    "]\n",
    "df = DataFrame(\n",
    "    cc = Float64[],\n",
    "    cd = Float64[],\n",
    "    dc = Float64[],\n",
    "    dd = Float64[],\n",
    "    game_type = String[],\n",
    "    perc_cooperators = Float64[],\n",
    "    max_pos_pressure = Int[],\n",
    "    max_neg_pressure = Int[]\n",
    ")\n",
    "\n",
    "for (max_pos_pressure, max_neg_pressure) in pressures\n",
    "    model, parameters = initialize(    \n",
    "        num_cooperators = 20, \n",
    "        num_defectors = 20, \n",
    "        num_neutral = 0, \n",
    "        max_pos_pressure = max_pos_pressure,\n",
    "        max_neg_pressure = max_neg_pressure,\n",
    "        adv_mutation_rate = 0.03,\n",
    "        move_mutation_rate = 0.15,\n",
    "        tolerance = 0.05,\n",
    "        payouts = Dict(\n",
    "            (:C, :C) => 8.0,\n",
    "            (:C, :D) => 0.0,\n",
    "            (:D, :C) => 9.0,\n",
    "            (:D, :D) => 6.0),\n",
    "    )\n",
    "\n",
    "\n",
    "    for num_cooperators = 0:nagents(model)\n",
    "        for p in allagents(model)\n",
    "            p.adv_type = :D\n",
    "        end\n",
    "        for p in collect(allagents(model))[1:num_cooperators]\n",
    "            p.adv_type = :C\n",
    "        end\n",
    "        update_game!(model)\n",
    "        push!(df, Dict(\n",
    "            :cc => cc(model),\n",
    "            :cd => cd(model),\n",
    "            :dc => dc(model),\n",
    "            :dd => dd(model),\n",
    "            :game_type => game_type(model),\n",
    "            :perc_cooperators => num_cooperators / nagents(model),\n",
    "            :max_pos_pressure => max_pos_pressure,\n",
    "            :max_neg_pressure => max_neg_pressure\n",
    "        ))\n",
    "    end\n",
    "end\n",
    "CSV.write(\"game_types_all_pressures2.csv\", df)\n"
   ]
  },
  {
   "cell_type": "code",
   "execution_count": 8,
   "metadata": {},
   "outputs": [
    {
     "name": "stdout",
     "output_type": "stream",
     "text": [
      "┌──────────────────────────┬──────────────────────┐\n",
      "│\u001b[1m                     Keys \u001b[0m│\u001b[1m               Values \u001b[0m│\n",
      "├──────────────────────────┼──────────────────────┤\n",
      "│             base_payouts │ [5.0, 3.0, 1.0, 0.0] │\n",
      "│                tolerance │                 0.05 │\n",
      "│            num_defectors │                   20 │\n",
      "│          num_cooperators │                   20 │\n",
      "│              num_neutral │                    0 │\n",
      "│    max_pos_neg_pressures │               [6, 6] │\n",
      "│               population │                   40 │\n",
      "│       a_m_mutation_rates │         [0.03, 0.15] │\n",
      "│   a_m_weights_of_present │           [0.3, 0.2] │\n",
      "│ a_m_reassess_frequencies │          [0.03, 0.1] │\n",
      "│              m_increment │                 0.15 │\n",
      "└──────────────────────────┴──────────────────────┘\n"
     ]
    }
   ],
   "source": [
    "model, parameters = initialize(    \n",
    "    num_cooperators = 20, \n",
    "    num_defectors = 20, \n",
    "    num_neutral = 0, \n",
    "    max_pos_pressure = 6,\n",
    "    max_neg_pressure = 6,\n",
    "    adv_mutation_rate = 0.03,\n",
    "    move_mutation_rate = 0.15,\n",
    "    tolerance = 0.05,\n",
    "    payouts = Dict(\n",
    "        (:C, :C) => 3.0,\n",
    "        (:C, :D) => 0.0,\n",
    "        (:D, :C) => 5.0,\n",
    "        (:D, :D) => 1.0),\n",
    ")\n",
    "\n",
    "pretty_table(parameters, show_subheader=false)\n"
   ]
  },
  {
   "cell_type": "code",
   "execution_count": 22,
   "metadata": {},
   "outputs": [
    {
     "data": {
      "text/plain": [
       "5-element Vector{Float64}:\n",
       " 0.0\n",
       " 0.15\n",
       " 0.25\n",
       " 0.35\n",
       " 0.45"
      ]
     },
     "metadata": {},
     "output_type": "display_data"
    }
   ],
   "source": [
    "weight_of_present_for_moves = [0.0, 0.1, 0.2, 0.3, 0.4]\n",
    "move_increments = [0.0, 0.15, 0.25, 0.35, 0.45]"
   ]
  },
  {
   "cell_type": "code",
   "execution_count": 31,
   "metadata": {},
   "outputs": [],
   "source": [
    "df = DataFrame(\n",
    "    weight_of_present_for_move = Float64[],\n",
    "    move_increment = Float64[],\n",
    "    pr_C = Float64[],\n",
    "    move = String[],\n",
    "    other_strat = String[],\n",
    ")\n",
    "\n",
    "other_strats = [\n",
    "    :D, :D, :D, :D, :D, :D, :D, :D, :D, :D, \n",
    "    :C, :C, :C, :C, :C, :C, :C, :C, :C, :C, \n",
    "    :C, :C, :C, :C, :C, :C, :C, :C, :C, :C]\n",
    "\n",
    "for weight_of_present_for_move in weight_of_present_for_moves    \n",
    "    for move_increment in move_increments\n",
    "        p = collect(allagents(model))[1]\n",
    "        p.weight_of_present_for_move = weight_of_present_for_move\n",
    "        p.move_increment = move_increment\n",
    "        p.inclinations = Dict(:C=>1.0, :D=>0.0)\n",
    "\n",
    "        for other_move in other_strats\n",
    "            p_move = :C\n",
    "            update_estimates!(p, model.payouts[p_move, other_move], p_move, advocate(p))\n",
    "            update_inclinations!(p)\n",
    "            push!(df, Dict(\n",
    "                :weight_of_present_for_move => weight_of_present_for_move,\n",
    "                :move_increment => move_increment,\n",
    "                :pr_C => pr_coop(p), \n",
    "                :move => string(p_move),\n",
    "                :other_strat => string(other_move)))\n",
    "        end\n",
    "    \n",
    "        CSV.write(\"pr_C_vs_other_strats.csv\", df)\n",
    "    end\n",
    "end\n"
   ]
  },
  {
   "cell_type": "code",
   "execution_count": 11,
   "metadata": {},
   "outputs": [
    {
     "name": "stdout",
     "output_type": "stream",
     "text": [
      "30\n"
     ]
    },
    {
     "data": {
      "text/plain": [
       "\"pr_C_vs_other_strat2.csv\""
      ]
     },
     "metadata": {},
     "output_type": "display_data"
    }
   ],
   "source": [
    "p.inclinations = Dict(:C=>1.0, :D=>0.0)\n",
    "\n",
    "other_strats = [\n",
    "    :D, :D, :D, :D, :D, :D, :D, :D, :D, :D, \n",
    "    :D, :D, :D, :D, :D, :C, :C, :C, :C, :C, \n",
    "    :C, :C, :C, :C, :C, :C, :C, :C, :C, :C]\n",
    "\n",
    "println(length(other_strats ))\n",
    "df = DataFrame(\n",
    "    pr_C = Float64[],\n",
    "    move = String[],\n",
    "    other_strat = String[],\n",
    ")\n",
    "for other_move in other_strats\n",
    "    p_move = :C\n",
    "    update_estimates!(p, model.payouts[p_move, other_move], p_move, advocate(p))\n",
    "    update_inclinations!(p)\n",
    "    push!(df, Dict(\n",
    "        :pr_C => pr_coop(p), \n",
    "        :move => string(p_move),\n",
    "        :other_strat => string(other_move)))\n",
    "end\n",
    "\n",
    "CSV.write(\"pr_C_vs_other_strat2.csv\", df)"
   ]
  },
  {
   "cell_type": "code",
   "execution_count": 12,
   "metadata": {},
   "outputs": [
    {
     "name": "stdout",
     "output_type": "stream",
     "text": [
      "30\n"
     ]
    },
    {
     "data": {
      "text/plain": [
       "\"pr_C_vs_other_strat3.csv\""
      ]
     },
     "metadata": {},
     "output_type": "display_data"
    }
   ],
   "source": [
    "p.inclinations = Dict(:C=>1.0, :D=>0.0)\n",
    "\n",
    "other_strats = [\n",
    "    :D, :D, :D, :D, :D, :C, :C, :C, :C, :C, \n",
    "    :D, :D, :D, :D, :D, :C, :C, :C, :C, :C, \n",
    "    :D, :D, :D, :D, :D, :C, :C, :C, :C, :C]\n",
    "\n",
    "println(length(other_strats ))\n",
    "df = DataFrame(\n",
    "    pr_C = Float64[],\n",
    "    move = String[],\n",
    "    other_strat = String[],\n",
    ")\n",
    "for other_move in other_strats\n",
    "    p_move = :C\n",
    "    update_estimates!(p, model.payouts[p_move, other_move], p_move, advocate(p))\n",
    "    update_inclinations!(p)\n",
    "    push!(df, Dict(\n",
    "        :pr_C => pr_coop(p), \n",
    "        :move => string(p_move),\n",
    "        :other_strat => string(other_move)))\n",
    "end\n",
    "\n",
    "CSV.write(\"pr_C_vs_other_strat3.csv\", df)"
   ]
  },
  {
   "cell_type": "code",
   "execution_count": null,
   "metadata": {},
   "outputs": [],
   "source": []
  }
 ],
 "metadata": {
  "kernelspec": {
   "display_name": "Julia 1.9.2",
   "language": "julia",
   "name": "julia-1.9"
  },
  "language_info": {
   "file_extension": ".jl",
   "mimetype": "application/julia",
   "name": "julia",
   "version": "1.9.2"
  }
 },
 "nbformat": 4,
 "nbformat_minor": 2
}
