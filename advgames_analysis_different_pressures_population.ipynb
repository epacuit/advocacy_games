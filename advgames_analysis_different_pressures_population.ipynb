{
 "cells": [
  {
   "cell_type": "code",
   "execution_count": 1,
   "metadata": {},
   "outputs": [
    {
     "data": {
      "text/plain": [
       "variance_inclinations (generic function with 1 method)"
      ]
     },
     "metadata": {},
     "output_type": "display_data"
    }
   ],
   "source": [
    "using CSV\n",
    "using DataFrames\n",
    "using PrettyTables\n",
    "using StatsBase\n",
    "include(\"./advgames.jl\")\n",
    "include(\"./advgames_analysis.jl\")"
   ]
  },
  {
   "cell_type": "code",
   "execution_count": 2,
   "metadata": {},
   "outputs": [
    {
     "name": "stdout",
     "output_type": "stream",
     "text": [
      "Population size: 121\n"
     ]
    },
    {
     "ename": "UndefVarError",
     "evalue": "UndefVarError: `num_neutral` not defined",
     "output_type": "error",
     "traceback": [
      "UndefVarError: `num_neutral` not defined\n",
      "\n",
      "Stacktrace:\n",
      " [1] top-level scope\n",
      "   @ ~/Dropbox/Steve-Eric files/julia-implementation/AdvGames_loft2024/advgames_analysis_different_pressures_population.ipynb:5"
     ]
    }
   ],
   "source": [
    "popsize = 121\n",
    "num_cooperators = Int(popsize % 2 == 0 ? popsize / 2 : (popsize + 1) / 2)\n",
    "num_defectors = Int(popsize - num_cooperators)  \n",
    "println(\"Population size: \", popsize)\n",
    "println(\"Number of neutral agents: \", num_neutral)\n",
    "println(\"Number of cooperators: \", num_cooperators)\n",
    "println(\"Number of defectors: \", num_defectors)\n"
   ]
  },
  {
   "cell_type": "code",
   "execution_count": 3,
   "metadata": {},
   "outputs": [
    {
     "data": {
      "text/plain": [
       "run_simulation (generic function with 1 method)"
      ]
     },
     "metadata": {},
     "output_type": "display_data"
    }
   ],
   "source": [
    "function run_simulation(df, num_simulations, numrounds, params_for_model, params_filename)\n",
    "    for nsim in 1:num_simulations\n",
    "        adata = [pr_coop]\n",
    "        # model data to record\n",
    "        mdata = [\n",
    "            cc, \n",
    "            cd, \n",
    "            dc, \n",
    "            dd, \n",
    "            game_type,\n",
    "            avg_incl,\n",
    "            pr_adv_coop,\n",
    "            pr_hyp_adv_c_play_d, \n",
    "            pr_hyp_adv_d_play_c, \n",
    "            perc_cooperative,\n",
    "            perc_uncooperative,\n",
    "            perc_middle,\n",
    "            variance_inclinations\n",
    "            ]\n",
    "        # params is a dictionary with the parameters to be used in the simulation\n",
    "        model, parameters = initialize(; params_for_model...)            \n",
    "        #pretty_table(parameters, show_subheader=false)\n",
    "        # write the parameters to a txt file\n",
    "        open(\"$(params_filename)_$(nsim).txt\", \"w\") do io\n",
    "            pretty_table(io, parameters, show_subheader=false)\n",
    "        end\n",
    "\n",
    "        _, mdf = run!(model, dummystep, model_step!, numrounds; adata, mdata)\n",
    "        \n",
    "        # average the mdf avg_incl\n",
    "        cai = mean(mdf.avg_incl)\n",
    "\n",
    "        # proportion of the times perc_cooperative >= 0.75\n",
    "        time_on_top = sum(mdf.perc_cooperative .>= 0.75) / length(mdf.perc_cooperative) \n",
    "        time_on_bottom = sum(mdf.perc_uncooperative .>= 0.75) / length(mdf.perc_cooperative) \n",
    "\n",
    "        if time_on_bottom == 0\n",
    "            coop_degree = Inf\n",
    "        else\n",
    "            coop_degree = time_on_top / time_on_bottom\n",
    "        end\n",
    "        \n",
    "        order_degree = time_on_top + time_on_bottom\n",
    "\n",
    "        R = model.base_payouts[:C, :C]\n",
    "        S = model.base_payouts[:C, :D]\n",
    "        T = model.base_payouts[:D, :C]\n",
    "        P = model.base_payouts[:D, :D]\n",
    "        tolerance = parameters[:tolerance]\n",
    "        num_defectors = parameters[:num_defectors]\n",
    "        num_cooperators = parameters[:num_cooperators]\n",
    "        num_neutral = parameters[:num_neutral]\n",
    "        max_positive_pressure = parameters[:max_pos_neg_pressures][1]\n",
    "        max_negative_pressure = parameters[:max_pos_neg_pressures][2]\n",
    "        adv_mutation_rate = parameters[:a_m_mutation_rates][1]\n",
    "        move_mutation_rate = parameters[:a_m_mutation_rates][2]\n",
    "        weight_of_present_for_adv = parameters[:a_m_weights_of_present][1]\n",
    "        weight_of_present_for_move = parameters[:a_m_weights_of_present][2]\n",
    "        adv_reassess_frequency = parameters[:a_m_reassess_frequencies][1]\n",
    "        move_reassess_frequency = parameters[:a_m_reassess_frequencies][2]\n",
    "        move_increment = parameters[:m_increment]\n",
    "        push!(df, [cai, coop_degree, order_degree, nsim, numrounds, R, S, T, P, tolerance, num_defectors, num_cooperators, num_neutral, max_positive_pressure, max_negative_pressure, adv_mutation_rate, move_mutation_rate, weight_of_present_for_adv, weight_of_present_for_move, adv_reassess_frequency, move_reassess_frequency, move_increment])\n",
    "    end\n",
    "end\n"
   ]
  },
  {
   "cell_type": "code",
   "execution_count": 4,
   "metadata": {},
   "outputs": [
    {
     "name": "stdout",
     "output_type": "stream",
     "text": [
      "Running simulation for popsize: 16 and max_pressure: 4\n",
      "Running simulation for popsize: 16 and max_pressure: 8\n",
      "Running simulation for popsize: 16 and max_pressure: 12\n",
      "Running simulation for popsize: 16 and max_pressure: 16\n",
      "Running simulation for popsize: 16 and max_pressure: 24\n",
      "Running simulation for popsize: 16 and max_pressure: 48\n",
      "Running simulation for popsize: 25 and max_pressure: 4\n",
      "Running simulation for popsize: 25 and max_pressure: 8\n",
      "Running simulation for popsize: 25 and max_pressure: 12\n",
      "Running simulation for popsize: 25 and max_pressure: 16\n",
      "Running simulation for popsize: 25 and max_pressure: 24\n",
      "Running simulation for popsize: 25 and max_pressure: 48\n",
      "Running simulation for popsize: 36 and max_pressure: 4\n",
      "Running simulation for popsize: 36 and max_pressure: 8\n",
      "Running simulation for popsize: 36 and max_pressure: 12\n",
      "Running simulation for popsize: 36 and max_pressure: 16\n",
      "Running simulation for popsize: 36 and max_pressure: 24\n",
      "Running simulation for popsize: 36 and max_pressure: 48\n",
      "Running simulation for popsize: 49 and max_pressure: 4\n",
      "Running simulation for popsize: 49 and max_pressure: 8\n",
      "Running simulation for popsize: 49 and max_pressure: 12\n",
      "Running simulation for popsize: 49 and max_pressure: 16\n",
      "Running simulation for popsize: 49 and max_pressure: 24\n",
      "Running simulation for popsize: 49 and max_pressure: 48\n",
      "Running simulation for popsize: 64 and max_pressure: 4\n",
      "Running simulation for popsize: 64 and max_pressure: 8\n",
      "Running simulation for popsize: 64 and max_pressure: 12\n",
      "Running simulation for popsize: 64 and max_pressure: 16\n",
      "Running simulation for popsize: 64 and max_pressure: 24\n",
      "Running simulation for popsize: 64 and max_pressure: 48\n",
      "Running simulation for popsize: 81 and max_pressure: 4\n",
      "Running simulation for popsize: 81 and max_pressure: 8\n",
      "Running simulation for popsize: 81 and max_pressure: 12\n",
      "Running simulation for popsize: 81 and max_pressure: 16\n",
      "Running simulation for popsize: 81 and max_pressure: 24\n",
      "Running simulation for popsize: 81 and max_pressure: 48\n",
      "Running simulation for popsize: 100 and max_pressure: 4\n",
      "Running simulation for popsize: 100 and max_pressure: 8\n",
      "Running simulation for popsize: 100 and max_pressure: 12\n",
      "Running simulation for popsize: 100 and max_pressure: 16\n",
      "Running simulation for popsize: 100 and max_pressure: 24\n",
      "Running simulation for popsize: 100 and max_pressure: 48\n",
      "Running simulation for popsize: 400 and max_pressure: 4\n",
      "Running simulation for popsize: 400 and max_pressure: 8\n",
      "Running simulation for popsize: 400 and max_pressure: 12\n",
      "Running simulation for popsize: 400 and max_pressure: 16\n",
      "Running simulation for popsize: 400 and max_pressure: 24\n",
      "Running simulation for popsize: 400 and max_pressure: 48\n"
     ]
    }
   ],
   "source": [
    "max_pressures = [4, 8, 12, 16, 24, 48]\n",
    "popsizes = [16, 25, 36, 49, 64, 81, 100, 400]\n",
    "numrounds = 500_000\n",
    "num_simulations = 50\n",
    "df = DataFrame(\n",
    "    cai=Float64[],\n",
    "    coop_degree=Float64[], \n",
    "    order_degree=Float64[], \n",
    "    numsim = Int[],\n",
    "    numrounds=Int[],\n",
    "    R=Float64[], \n",
    "    S=Float64[], \n",
    "    T=Float64[], \n",
    "    P=Float64[], \n",
    "    tolerance=Float64[], \n",
    "    num_defectors=Int[], \n",
    "    num_cooperators=Int[], \n",
    "    num_neutral=Int[], \n",
    "    max_positive_pressure=Float64[], \n",
    "    max_negative_pressure=Float64[], \n",
    "    adv_mutation_rate=Float64[], \n",
    "    move_mutation_rate=Float64[], \n",
    "    weight_of_present_for_adv=Float64[], \n",
    "    weight_of_present_for_move=Float64[], \n",
    "    adv_reassess_frequency=Float64[], \n",
    "    move_reassess_frequency=Float64[], \n",
    "    move_increment=Float64[]\n",
    ")\n",
    "\n",
    "for popsize in popsizes\n",
    "    for max_pressure in max_pressures\n",
    "\n",
    "        println(\"Running simulation for popsize: $popsize and max_pressure: $max_pressure\")\n",
    "\n",
    "        # divide popsize into two equal parts\n",
    "        # num_neutral is what is left over if popsize is not divisible by 2\n",
    "        num_cooperators = Int(popsize % 2 == 0 ? popsize / 2 : (popsize + 1) / 2)\n",
    "        \n",
    "        max_pos_pressure = Int(max_pressure % 2 == 0 ? max_pressure / 2 : (max_pressure + 1) / 2)\n",
    "        params_for_model = Dict(\n",
    "            :num_cooperators => num_cooperators, \n",
    "            :num_defectors => popsize - num_cooperators, \n",
    "            :num_neutral => 0, \n",
    "            :max_pos_pressure => max_pos_pressure,\n",
    "            :max_neg_pressure => max_pressure - max_pos_pressure,\n",
    "            :adv_mutation_rate => 0.2,\n",
    "            :move_mutation_rate => 0.15,\n",
    "            :tolerance => 0.05,\n",
    "            :payouts => Dict(\n",
    "                (:C, :C) => 3.0,\n",
    "                (:C, :D) => 0.0,\n",
    "                (:D, :C) => 4.0,\n",
    "                (:D, :D) => 1.0\n",
    "                )\n",
    "        )\n",
    "        run_simulation(df, num_simulations, numrounds, params_for_model, \"./diff_pops_pressures/params_$(popsize)_$(max_pressure)\")\n",
    "        CSV.write(\"diff_pops_pressures/diff_pops_pressures.csv\", df)\n",
    "    end\n",
    "end\n"
   ]
  },
  {
   "cell_type": "code",
   "execution_count": null,
   "metadata": {},
   "outputs": [],
   "source": []
  }
 ],
 "metadata": {
  "kernelspec": {
   "display_name": "Julia 1.9.2",
   "language": "julia",
   "name": "julia-1.9"
  },
  "language_info": {
   "file_extension": ".jl",
   "mimetype": "application/julia",
   "name": "julia",
   "version": "1.9.2"
  }
 },
 "nbformat": 4,
 "nbformat_minor": 2
}
